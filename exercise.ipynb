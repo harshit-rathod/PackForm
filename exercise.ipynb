{
 "cells": [
  {
   "cell_type": "code",
   "execution_count": 11,
   "metadata": {},
   "outputs": [],
   "source": [
    "import pandas as pd\n",
    "import os"
   ]
  },
  {
   "cell_type": "code",
   "execution_count": 12,
   "metadata": {},
   "outputs": [
    {
     "data": {
      "text/plain": [
       "'C:\\\\Users\\\\hrhar\\\\Documents\\\\Study\\\\Coding exercise'"
      ]
     },
     "execution_count": 12,
     "metadata": {},
     "output_type": "execute_result"
    }
   ],
   "source": [
    "os.getcwd()"
   ]
  },
  {
   "cell_type": "code",
   "execution_count": 3,
   "metadata": {},
   "outputs": [],
   "source": [
    "os.chdir(\"Documents\")"
   ]
  },
  {
   "cell_type": "code",
   "execution_count": 4,
   "metadata": {},
   "outputs": [],
   "source": [
    "os.chdir(\"Study\")"
   ]
  },
  {
   "cell_type": "code",
   "execution_count": 5,
   "metadata": {},
   "outputs": [],
   "source": [
    "os.chdir(\"Coding exercise\")"
   ]
  },
  {
   "cell_type": "code",
   "execution_count": 6,
   "metadata": {},
   "outputs": [
    {
     "data": {
      "text/plain": [
       "'C:\\\\Users\\\\hrhar\\\\Documents\\\\Study\\\\Coding exercise'"
      ]
     },
     "execution_count": 6,
     "metadata": {},
     "output_type": "execute_result"
    }
   ],
   "source": [
    "os.getcwd()"
   ]
  },
  {
   "cell_type": "code",
   "execution_count": 7,
   "metadata": {},
   "outputs": [
    {
     "data": {
      "text/plain": [
       "['test_data.tar.bz2']"
      ]
     },
     "execution_count": 7,
     "metadata": {},
     "output_type": "execute_result"
    }
   ],
   "source": [
    "os.listdir()"
   ]
  },
  {
   "cell_type": "code",
   "execution_count": 9,
   "metadata": {},
   "outputs": [],
   "source": [
    "import tarfile\n",
    "tf = tarfile.open(\"test_data.tar.bz2\")\n",
    "tf.extractall()"
   ]
  },
  {
   "cell_type": "code",
   "execution_count": 10,
   "metadata": {},
   "outputs": [
    {
     "data": {
      "text/plain": [
       "['Test task - Mongo - customers.csv',\n",
       " 'Test task - Mongo - customer_companies.csv',\n",
       " 'Test task - Orders.csv',\n",
       " 'Test task - Postgres - deliveries.csv',\n",
       " 'Test task - Postgres - orders.csv',\n",
       " 'Test task - Postgres - order_items.csv',\n",
       " 'test_data.tar.bz2']"
      ]
     },
     "execution_count": 10,
     "metadata": {},
     "output_type": "execute_result"
    }
   ],
   "source": [
    "os.listdir()"
   ]
  },
  {
   "cell_type": "code",
   "execution_count": 27,
   "metadata": {
    "scrolled": true
   },
   "outputs": [
    {
     "name": "stdout",
     "output_type": "stream",
     "text": [
      "['company_id', 'company_name']\n",
      "['1', 'Roga & Kopyta']\n",
      "['2', 'Pupkin & Co']\n",
      "['user_id', 'login', 'password', 'name', 'company_id', 'credit_cards']\n",
      "['ivan', 'ivan', '12345', 'Ivan Ivanovich', '1', '[\"*****-1234\", \"*****-5678\"]']\n",
      "['petr', 'petr', '54321', 'Petr Petrovich', '2', '[\"*****-4321\", \"*****-8765\"]']\n",
      "['id', 'created_at', 'order_name', 'customer_id']\n",
      "['1', '2020-01-02T15:34:12Z', 'PO #001-I', 'ivan']\n",
      "['2', '2020-01-15T17:34:12Z', 'PO #002-I', 'ivan']\n",
      "['3', '2020-01-05T05:34:12Z', 'PO #003-I', 'ivan']\n",
      "['4', '2020-02-02T15:34:12Z', 'PO #004-I', 'ivan']\n",
      "['5', '2020-01-03T10:34:12Z', 'PO #005-I', 'ivan']\n",
      "['6', '2020-01-02T15:34:12Z', 'PO #001-P', 'petr']\n",
      "['7', '2020-01-15T17:34:12Z', 'PO #002-P', 'petr']\n",
      "['8', '2020-01-05T05:34:12Z', 'PO #003-P', 'petr']\n",
      "['9', '2020-02-02T15:34:12Z', 'PO #004-P', 'petr']\n",
      "['10', '2020-01-03T10:34:12Z', 'PO #005-P', 'petr']\n"
     ]
    }
   ],
   "source": [
    "import sqlite3\n",
    "import csv\n",
    "\n",
    "conn = sqlite3.connect('ecommerce.sqlite')\n",
    "cur = conn.cursor()\n",
    "\n",
    "cur.execute('DROP TABLE IF EXISTS customer_companies')\n",
    "cur.execute('DROP TABLE IF EXISTS customers')\n",
    "cur.execute('DROP TABLE IF EXISTS orders')\n",
    "\n",
    "\n",
    "cur.execute('''CREATE TABLE \"customer_companies\"\n",
    "            (\"company_id\" integer,\"company_name\" text)''')\n",
    "cur.execute('''CREATE TABLE \"customers\"\n",
    "            (\"user_id\" text,\"login\" text,\"password\" blob,\"name\" text,\"company_id\" integer,\"credit_cards\" blob)''')\n",
    "cur.execute('''CREATE TABLE \"orders\"\n",
    "            (\"id\" integer,\"created_at\" text,\"order_name\" blob, \"customer_id\" text)\n",
    "            ''')\n",
    "fname= \"Test task - Mongo - customer_companies.csv\"\n",
    "with open(fname) as csv_file:\n",
    "    csv_reader = csv.reader(csv_file, delimiter=',')\n",
    "    for row in csv_reader:\n",
    "        print(row)\n",
    "        company_id = row[0]\n",
    "        company_name = row[1]\n",
    "        cur.execute('''INSERT INTO customer_companies(company_id,company_name)\n",
    "        VALUES(?,?)''',(company_id,company_name))\n",
    "        conn.commit()\n",
    "gname= \"Test task - Mongo - customers.csv\"\n",
    "with open(gname) as csv_file:\n",
    "    csv_reader = csv.reader(csv_file, delimiter=',')\n",
    "    for row in csv_reader:\n",
    "        print(row)\n",
    "        user_id = row[0]\n",
    "        login = row[1]\n",
    "        password = row[2]\n",
    "        name = row[3]\n",
    "        company_id = row[4]\n",
    "        credit_cards = row[5]\n",
    "        cur.execute('''INSERT INTO customers(user_id,login,password,name,company_id,credit_cards)\n",
    "        VALUES(?,?,?,?,?,?)''',(user_id,login,password,name,company_id,credit_cards))\n",
    "        conn.commit()\n",
    "hname= \"Test task - Orders.csv\"\n",
    "with open(hname) as csv_file:\n",
    "    csv_reader = csv.reader(csv_file, delimiter=',')\n",
    "    for row in csv_reader:\n",
    "        print(row)\n",
    "        id = row[0]\n",
    "        created_at = row[1]\n",
    "        order_name = row[2]\n",
    "        customer_id = row[3]\n",
    "        cur.execute('''INSERT INTO orders(id,created_at,order_name,customer_id)\n",
    "        VALUES(?,?,?,?)''',(id,created_at,order_name,customer_id))\n",
    "        conn.commit()\n",
    "\n",
    "\n",
    "\n"
   ]
  },
  {
   "cell_type": "code",
   "execution_count": null,
   "metadata": {},
   "outputs": [],
   "source": []
  }
 ],
 "metadata": {
  "kernelspec": {
   "display_name": "Python 3",
   "language": "python",
   "name": "python3"
  },
  "language_info": {
   "codemirror_mode": {
    "name": "ipython",
    "version": 3
   },
   "file_extension": ".py",
   "mimetype": "text/x-python",
   "name": "python",
   "nbconvert_exporter": "python",
   "pygments_lexer": "ipython3",
   "version": "3.7.3"
  }
 },
 "nbformat": 4,
 "nbformat_minor": 2
}
